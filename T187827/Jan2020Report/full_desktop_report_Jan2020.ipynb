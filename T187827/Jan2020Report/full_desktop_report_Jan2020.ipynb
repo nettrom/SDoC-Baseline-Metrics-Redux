{
 "cells": [
  {
   "cell_type": "markdown",
   "metadata": {},
   "source": [
    "# Search behavior on Commons vs English Wikipedia"
   ]
  },
  {
   "cell_type": "code",
   "execution_count": 1,
   "metadata": {},
   "outputs": [
    {
     "name": "stderr",
     "output_type": "stream",
     "text": [
      "You can find the source for `wmfdata` at https://github.com/neilpquinn/wmfdata\n"
     ]
    }
   ],
   "source": [
    "import pandas as pd\n",
    "import numpy as np\n",
    "\n",
    "from wmfdata import hive, mariadb"
   ]
  },
  {
   "cell_type": "code",
   "execution_count": 2,
   "metadata": {},
   "outputs": [],
   "source": [
    "# query testsatisfaction2 dataset to obtain Commons and English Wikipedia search data.\n",
    "\n",
    "## For now, it appears that something happened on Dec 10, 2019 to change either the data that\n",
    "## was returned, or data gathering ended. More investigation is needed.\n",
    "\n",
    "query = '''\n",
    "SELECT\n",
    "        dt,\n",
    "        wiki,\n",
    "        event.uniqueId AS event_id,\n",
    "        event.pageViewId AS page_id,\n",
    "        event.articleId AS article_id,\n",
    "        event.searchSessionId AS session_id,\n",
    "        MD5(LOWER(TRIM(event.query))) AS query_hash,\n",
    "        event.action AS event_action,\n",
    "        CASE\n",
    "        WHEN event.position < 0 THEN NULL\n",
    "        ELSE event.position\n",
    "        END AS event_position,\n",
    "        CASE\n",
    "        WHEN event.action = \"searchResultPage\" AND event.hitsReturned > 0 THEN true\n",
    "        WHEN event.action = \"searchResultPage\" AND event.hitsReturned IS NULL THEN false\n",
    "        ELSE NULL\n",
    "        END AS `some same-wiki results`,\n",
    "        CASE\n",
    "        WHEN event.action = \"searchResultPage\" AND event.hitsReturned > -1 THEN event.hitsReturned\n",
    "        WHEN event.action = \"searchResultPage\" AND event.hitsReturned IS NULL THEN 0\n",
    "        ELSE NULL\n",
    "        END AS n_results,\n",
    "        event.scroll,\n",
    "        event.checkin,\n",
    "        event.extraParams,\n",
    "        event.msToDisplayResults AS load_time\n",
    "FROM event.testsearchsatisfaction2\n",
    "WHERE year IN (2019, 2020)\n",
    "AND dt < \"2020-02-03\"\n",
    "AND wiki IN (\"commonswiki\", \"enwiki\")\n",
    "AND useragent.is_bot = false\n",
    "AND event.source = \"fulltext\"\n",
    "AND event.subTest IS NULL\n",
    "AND CASE WHEN event.action = \"searchResultPage\" THEN event.msToDisplayResults IS NOT NULL\n",
    "    WHEN event.action IN (\"click\", \"iwclick\", \"ssclick\")\n",
    "        THEN event.position IS NOT NULL AND event.position > -1\n",
    "    WHEN event.action = \"visitPage\" THEN event.pageViewId IS NOT NULL\n",
    "    WHEN event.action = \"checkin\" THEN event.checkin IS NOT NULL AND event.pageViewId IS NOT NULL\n",
    "    ELSE true\n",
    "    END'''"
   ]
  },
  {
   "cell_type": "code",
   "execution_count": 3,
   "metadata": {},
   "outputs": [],
   "source": [
    "fulltext_events_raw = hive.run(query)"
   ]
  },
  {
   "cell_type": "code",
   "execution_count": null,
   "metadata": {},
   "outputs": [],
   "source": [
    "fulltext_events_raw.head()"
   ]
  },
  {
   "cell_type": "code",
   "execution_count": 5,
   "metadata": {},
   "outputs": [
    {
     "data": {
      "text/plain": [
       "dt                         object\n",
       "wiki                       object\n",
       "event_id                   object\n",
       "page_id                    object\n",
       "article_id                float64\n",
       "session_id                 object\n",
       "query_hash                 object\n",
       "event_action               object\n",
       "event_position            float64\n",
       "some same-wiki results     object\n",
       "n_results                 float64\n",
       "scroll                       bool\n",
       "checkin                   float64\n",
       "extraParams                object\n",
       "load_time                 float64\n",
       "user_agent                 object\n",
       "dtype: object"
      ]
     },
     "execution_count": 5,
     "metadata": {},
     "output_type": "execute_result"
    }
   ],
   "source": [
    "fulltext_events_raw.dtypes"
   ]
  },
  {
   "cell_type": "code",
   "execution_count": 6,
   "metadata": {},
   "outputs": [],
   "source": [
    "## Drop the user agent column, it's not used in the subsequent analysis\n",
    "## fulltext_events_raw.drop(columns = 'user_agent', inplace = True)"
   ]
  },
  {
   "cell_type": "code",
   "execution_count": 7,
   "metadata": {},
   "outputs": [],
   "source": [
    "## Save the raw data\n",
    "fulltext_events_raw.to_csv(\"data/fulltext_events_raw_enwiki_commons_Jan2020.csv\")"
   ]
  },
  {
   "cell_type": "code",
   "execution_count": 4,
   "metadata": {},
   "outputs": [],
   "source": [
    "## fulltext_events_raw = pd.read_csv(\"data/fulltext_events_raw_enwiki_commons_Jan2020.csv\",\n",
    "##                                 index_col = 0)"
   ]
  }
 ],
 "metadata": {
  "kernelspec": {
   "display_name": "Python 3",
   "language": "python",
   "name": "python3"
  },
  "language_info": {
   "codemirror_mode": {
    "name": "ipython",
    "version": 3
   },
   "file_extension": ".py",
   "mimetype": "text/x-python",
   "name": "python",
   "nbconvert_exporter": "python",
   "pygments_lexer": "ipython3",
   "version": "3.5.3"
  }
 },
 "nbformat": 4,
 "nbformat_minor": 2
}
